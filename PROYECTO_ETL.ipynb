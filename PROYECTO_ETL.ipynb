{
  "nbformat": 4,
  "nbformat_minor": 0,
  "metadata": {
    "colab": {
      "provenance": []
    },
    "kernelspec": {
      "name": "python3",
      "display_name": "Python 3"
    },
    "language_info": {
      "name": "python"
    }
  },
  "cells": [
    {
      "cell_type": "code",
      "source": [
        "# Instalamos las librerías necesarias\n",
        "!pip install requests\n",
        "!pip install pandas"
      ],
      "metadata": {
        "colab": {
          "base_uri": "https://localhost:8080/"
        },
        "collapsed": true,
        "id": "Oc6SCLz6S_Mn",
        "outputId": "ffa6c892-f99e-4eb6-f30a-b0abd011deee"
      },
      "execution_count": null,
      "outputs": [
        {
          "output_type": "stream",
          "name": "stdout",
          "text": [
            "Requirement already satisfied: requests in /usr/local/lib/python3.11/dist-packages (2.32.3)\n",
            "Requirement already satisfied: charset-normalizer<4,>=2 in /usr/local/lib/python3.11/dist-packages (from requests) (3.4.1)\n",
            "Requirement already satisfied: idna<4,>=2.5 in /usr/local/lib/python3.11/dist-packages (from requests) (3.10)\n",
            "Requirement already satisfied: urllib3<3,>=1.21.1 in /usr/local/lib/python3.11/dist-packages (from requests) (2.3.0)\n",
            "Requirement already satisfied: certifi>=2017.4.17 in /usr/local/lib/python3.11/dist-packages (from requests) (2025.1.31)\n",
            "Requirement already satisfied: pandas in /usr/local/lib/python3.11/dist-packages (2.2.2)\n",
            "Requirement already satisfied: numpy>=1.23.2 in /usr/local/lib/python3.11/dist-packages (from pandas) (2.0.2)\n",
            "Requirement already satisfied: python-dateutil>=2.8.2 in /usr/local/lib/python3.11/dist-packages (from pandas) (2.8.2)\n",
            "Requirement already satisfied: pytz>=2020.1 in /usr/local/lib/python3.11/dist-packages (from pandas) (2025.1)\n",
            "Requirement already satisfied: tzdata>=2022.7 in /usr/local/lib/python3.11/dist-packages (from pandas) (2025.1)\n",
            "Requirement already satisfied: six>=1.5 in /usr/local/lib/python3.11/dist-packages (from python-dateutil>=2.8.2->pandas) (1.17.0)\n"
          ]
        }
      ]
    },
    {
      "cell_type": "code",
      "source": [
        "# Importamos  librerías\n",
        "import requests\n",
        "import pandas as pd\n",
        "import json\n",
        "from datetime import datetime"
      ],
      "metadata": {
        "id": "XhjWIOcMTJqs"
      },
      "execution_count": null,
      "outputs": []
    },
    {
      "cell_type": "code",
      "source": [
        "# Configuración de token y la versión de la API\n",
        "ACCESS_TOKEN = \"IGAATJSKBr5P9BZAE5NblBIMzNqeVJLdXd6c3did3dSYllPa0F3T0p5TlYxWDY0Wk9wbXI4UkRiSzhPOUl2U1VGRzNlZAk44S3pLa2k5UlNLVjhQTU5OVTUxZA2hCUDZAXdTBEeHNodkI2eUVKLXM0LTgwRUdPdnlTZAW9CcC1VWFlmZAwZDZD\"\n",
        "API_VERSION = \"v22.0\"\n",
        "\n",
        "# Verificación del token\n",
        "if not ACCESS_TOKEN or ACCESS_TOKEN == \"PASTE_NEW_TOKEN_HERE\":\n",
        "    print(\"¡Error! Configura un token válido en ACCESS_TOKEN.\")\n",
        "else:\n",
        "    print(\"Token configurado:\", ACCESS_TOKEN[:10], \"... (ocultado por seguridad)\")\n",
        "    print(\"Versión de la API configurada:\", API_VERSION)"
      ],
      "metadata": {
        "colab": {
          "base_uri": "https://localhost:8080/"
        },
        "id": "hul1scGTTMeK",
        "outputId": "60cec5d1-918b-4de8-e5b9-17e88153a16a"
      },
      "execution_count": null,
      "outputs": [
        {
          "output_type": "stream",
          "name": "stdout",
          "text": [
            "Token configurado: IGAATJSKBr ... (ocultado por seguridad)\n",
            "Versión de la API configurada: v22.0\n"
          ]
        }
      ]
    },
    {
      "cell_type": "code",
      "source": [
        "# Función para hacer solicitudes a la API: se define una función reusable para enviar solicitudes a la API.\n",
        "def fetch_instagram_data(endpoint, params, version=API_VERSION):\n",
        "    url = f\"https://graph.instagram.com/{version}/{endpoint}\"\n",
        "    params['access_token'] = ACCESS_TOKEN\n",
        "    response = requests.get(url, params=params)\n",
        "    print(f\"URL solicitada: {response.url}\")  # Para depuración\n",
        "    if response.status_code == 200:\n",
        "        return response.json()\n",
        "    else:\n",
        "        print(f\"Error {response.status_code}: {response.text}\")\n",
        "        return None\n",
        "\n",
        "print(\"Función fetch_instagram_data definida\")"
      ],
      "metadata": {
        "colab": {
          "base_uri": "https://localhost:8080/"
        },
        "id": "nXJD8oabT8fx",
        "outputId": "68f30b54-f4c8-44da-e581-fb1547166a83"
      },
      "execution_count": null,
      "outputs": [
        {
          "output_type": "stream",
          "name": "stdout",
          "text": [
            "Función fetch_instagram_data definida\n"
          ]
        }
      ]
    },
    {
      "cell_type": "code",
      "source": [
        "# Probamos el token con datos básicos del perfil: Se solicita datos básicos del perfil (ID, username, seguidores, número de publicaciones) para verificar que el token funciona.\n",
        "profile_params = {\n",
        "    \"fields\": \"id,username,followers_count,media_count\"\n",
        "}\n",
        "profile_data = fetch_instagram_data(\"me\", profile_params)\n",
        "\n",
        "if profile_data:\n",
        "    print(\"Datos del perfil:\")\n",
        "    print(json.dumps(profile_data, indent=4))\n",
        "else:\n",
        "    print(\"Sin información.\")"
      ],
      "metadata": {
        "collapsed": true,
        "colab": {
          "base_uri": "https://localhost:8080/"
        },
        "id": "3K6yKAAeUDqO",
        "outputId": "35b0bc54-910c-44af-97b4-7ba6b01c2f3f"
      },
      "execution_count": null,
      "outputs": [
        {
          "output_type": "stream",
          "name": "stdout",
          "text": [
            "URL solicitada: https://graph.instagram.com/v22.0/me?fields=id%2Cusername%2Cfollowers_count%2Cmedia_count&access_token=IGAATJSKBr5P9BZAE5NblBIMzNqeVJLdXd6c3did3dSYllPa0F3T0p5TlYxWDY0Wk9wbXI4UkRiSzhPOUl2U1VGRzNlZAk44S3pLa2k5UlNLVjhQTU5OVTUxZA2hCUDZAXdTBEeHNodkI2eUVKLXM0LTgwRUdPdnlTZAW9CcC1VWFlmZAwZDZD\n",
            "Datos del perfil:\n",
            "{\n",
            "    \"id\": \"9567080036669811\",\n",
            "    \"username\": \"lenceria_santaevacali\",\n",
            "    \"followers_count\": 3596,\n",
            "    \"media_count\": 72\n",
            "}\n"
          ]
        }
      ]
    },
    {
      "cell_type": "code",
      "source": [
        "# Función para manejar la paginación y obtener todas las publicaciones\n",
        "def fetch_all_instagram_media(params, version=API_VERSION):\n",
        "    all_media = []\n",
        "    next_url = f\"https://graph.instagram.com/{version}/me/media\"\n",
        "\n",
        "    while next_url:\n",
        "        response = requests.get(next_url, params=params)\n",
        "        print(f\"URL solicitada: {response.url}\")\n",
        "        if response.status_code != 200:\n",
        "            print(f\"Error {response.status_code}: {response.text}\")\n",
        "            break\n",
        "\n",
        "        data = response.json()\n",
        "        if \"data\" not in data:\n",
        "            print(\"Sin información\")\n",
        "            break\n",
        "\n",
        "        all_media.extend(data[\"data\"])\n",
        "        # Verifica si hay más páginas\n",
        "        next_url = data.get(\"paging\", {}).get(\"next\", None)\n",
        "        params = {}  # Para las siguientes solicitudes, los parámetros están en la URL de paginación\n",
        "\n",
        "    return all_media\n",
        "\n",
        "# Configuramos los campos que queremos extraer\n",
        "media_params = {\n",
        "    \"fields\": \"id,media_type,media_url,timestamp,like_count,comments_count,children{media_type}\",\n",
        "    \"access_token\": ACCESS_TOKEN\n",
        "}\n",
        "\n",
        "# Extraemos todas las publicaciones\n",
        "media_data = fetch_all_instagram_media(media_params)\n",
        "\n",
        "if media_data:\n",
        "    print(\"Número total de publicaciones extraídas:\", len(media_data))\n",
        "else:\n",
        "    print(\"Sin información\")\n",
        "\n",
        "#Función fetch_all_instagram_media: Maneja la paginación automáticamente. La API devuelve un enlace a la \"siguiente página\" (paging.next) si hay más publicaciones. La función sigue ese enlace hasta que no haya más datos."
      ],
      "metadata": {
        "colab": {
          "base_uri": "https://localhost:8080/"
        },
        "id": "uTSE9eEtUdwA",
        "outputId": "2792c037-7ebf-47a7-d8da-cd60e7f6cbc3",
        "collapsed": true
      },
      "execution_count": null,
      "outputs": [
        {
          "output_type": "stream",
          "name": "stdout",
          "text": [
            "URL solicitada: https://graph.instagram.com/v22.0/me/media?fields=id%2Cmedia_type%2Cmedia_url%2Ctimestamp%2Clike_count%2Ccomments_count%2Cchildren%7Bmedia_type%7D&access_token=IGAATJSKBr5P9BZAE5NblBIMzNqeVJLdXd6c3did3dSYllPa0F3T0p5TlYxWDY0Wk9wbXI4UkRiSzhPOUl2U1VGRzNlZAk44S3pLa2k5UlNLVjhQTU5OVTUxZA2hCUDZAXdTBEeHNodkI2eUVKLXM0LTgwRUdPdnlTZAW9CcC1VWFlmZAwZDZD\n",
            "URL solicitada: https://graph.instagram.com/v22.0/17841439137400116/media?fields=id%2Cmedia_type%2Cmedia_url%2Ctimestamp%2Clike_count%2Ccomments_count%2Cchildren%7Bmedia_type%7D&access_token=IGAATJSKBr5P9BZAE5NblBIMzNqeVJLdXd6c3did3dSYllPa0F3T0p5TlYxWDY0Wk9wbXI4UkRiSzhPOUl2U1VGRzNlZAk44S3pLa2k5UlNLVjhQTU5OVTUxZA2hCUDZAXdTBEeHNodkI2eUVKLXM0LTgwRUdPdnlTZAW9CcC1VWFlmZAwZDZD&limit=25&after=QVFIUkRqOGxxV19Nc2p3LWVBbzlwQlllR0ZAmMHk0N1lUVlFsbEloYW04NXFSc2JLZAnd5U25IV3RYZAGtVazJlM2xWY0ZAWdkh2ZAHJUdUdnYVVjbzlicUQtQ0ZA3\n",
            "URL solicitada: https://graph.instagram.com/v22.0/17841439137400116/media?fields=id%2Cmedia_type%2Cmedia_url%2Ctimestamp%2Clike_count%2Ccomments_count%2Cchildren%7Bmedia_type%7D&access_token=IGAATJSKBr5P9BZAE5NblBIMzNqeVJLdXd6c3did3dSYllPa0F3T0p5TlYxWDY0Wk9wbXI4UkRiSzhPOUl2U1VGRzNlZAk44S3pLa2k5UlNLVjhQTU5OVTUxZA2hCUDZAXdTBEeHNodkI2eUVKLXM0LTgwRUdPdnlTZAW9CcC1VWFlmZAwZDZD&limit=25&after=QVFIUmFqZAk1WZAGcwVnJrZAXQyN1pGenVsWmR5WjhVZAzVyMHA0SlRXamFuNmdwUm85UElwX1NuQjZAya1pmYmpwaTQ3UFBCUDNTUUFuSXkxeVdJTm1DYzRHSmdB\n",
            "Número total de publicaciones extraídas: 72\n"
          ]
        }
      ]
    },
    {
      "cell_type": "code",
      "source": [
        "# Convertimos publicaciones a DataFrame y guardamos en CSV\n",
        "if media_data:\n",
        "    df_media = pd.DataFrame(media_data)\n",
        "    df_media[\"timestamp\"] = pd.to_datetime(df_media[\"timestamp\"])\n",
        "    df_media.to_csv(\"instagram_media.csv\", index=False)\n",
        "    print(\"Publicaciones guardadas en 'instagram_media.csv'\")\n",
        "else:\n",
        "    print(\"No se guardaron datos.\")\n",
        "\n",
        "#Ajustamos para usar media_data directamente (ya que fetch_all_instagram_media devuelve una lista).\n",
        "#Guardamos los datos en CSV"
      ],
      "metadata": {
        "colab": {
          "base_uri": "https://localhost:8080/"
        },
        "id": "18e60PZnUwM5",
        "outputId": "e9dd061d-bf8e-4fb4-f211-914107a45529"
      },
      "execution_count": null,
      "outputs": [
        {
          "output_type": "stream",
          "name": "stdout",
          "text": [
            "Publicaciones guardadas en 'instagram_media.csv'\n"
          ]
        }
      ]
    },
    {
      "cell_type": "code",
      "source": [
        "if media_data:\n",
        "\n",
        "# Aseguramos que 'like_count' y 'comments_count' sean numéricos\n",
        "    df_media['like_count'] = pd.to_numeric(df_media['like_count'], errors='coerce')\n",
        "    df_media['comments_count'] = pd.to_numeric(df_media['comments_count'], errors='coerce')\n",
        "\n",
        "# Creamos una columna para interactividad total (likes + comentarios)\n",
        "    df_media['interactivity'] = df_media['like_count'] + df_media['comments_count']\n",
        "\n",
        "# Número total de likes y comentarios\n",
        "    total_likes = df_media['like_count'].sum()\n",
        "    total_comments = df_media['comments_count'].sum()\n",
        "    print(f\"\\nTotal de likes en todas las publicaciones: {total_likes}\")\n",
        "    print(f\"Total de comentarios en todas las publicaciones: {total_comments}\")\n",
        "\n",
        "# Promedio de likes y comentarios por publicación\n",
        "    avg_likes = df_media['like_count'].mean()\n",
        "    avg_comments = df_media['comments_count'].mean()\n",
        "    print(f\"Promedio de likes por publicación: {avg_likes:.2f}\")\n",
        "    print(f\"Promedio de comentarios por publicación: {avg_comments:.2f}\")\n",
        "\n",
        "# Publicación con mayor interactividad\n",
        "    most_interactive_post = df_media.loc[df_media['interactivity'].idxmax()]\n",
        "    print(\"\\nPublicación con mayor interactividad:\")\n",
        "    print(f\"ID: {most_interactive_post['id']}\")\n",
        "    print(f\"Tipo de medio: {most_interactive_post['media_type']}\")\n",
        "    print(f\"URL: {most_interactive_post['media_url']}\")\n",
        "    print(f\"Fecha: {most_interactive_post['timestamp']}\")\n",
        "    print(f\"Likes: {most_interactive_post['like_count']}\")\n",
        "    print(f\"Comentarios: {most_interactive_post['comments_count']}\")\n",
        "    print(f\"Interactividad total: {most_interactive_post['interactivity']}\")\n",
        "\n",
        "# Publicación con mínima interactividad\n",
        "    least_interactive_post = df_media.loc[df_media['interactivity'].idxmin()]\n",
        "    print(\"\\nPublicación con mínima interactividad:\")\n",
        "    print(f\"ID: {least_interactive_post['id']}\")\n",
        "    print(f\"Tipo de medio: {least_interactive_post['media_type']}\")\n",
        "    print(f\"URL: {least_interactive_post['media_url']}\")\n",
        "    print(f\"Fecha: {least_interactive_post['timestamp']}\")\n",
        "    print(f\"Likes: {least_interactive_post['like_count']}\")\n",
        "    print(f\"Comentarios: {least_interactive_post['comments_count']}\")\n",
        "    print(f\"Interactividad total: {least_interactive_post['interactivity']}\")\n",
        "\n",
        "# Conteo y análisis por tipo de publicación (videos, imágenes, carruseles)\n",
        "# Conteo de cada tipo\n",
        "    media_type_counts = df_media['media_type'].value_counts()\n",
        "    print(\"\\nConteo de publicaciones por tipo:\")\n",
        "    print(f\"Videos: {media_type_counts.get('VIDEO', 0)}\")\n",
        "    print(f\"Imágenes: {media_type_counts.get('IMAGE', 0)}\")\n",
        "    print(f\"Carruseles: {media_type_counts.get('CAROUSEL_ALBUM', 0)}\")\n",
        "\n",
        "# Análisis por tipo de medio (likes totales, promedio, conteo)\n",
        "    media_type_analysis = df_media.groupby('media_type').agg({\n",
        "    'like_count': ['sum', 'mean'],  # Total y promedio de likes\n",
        "    'comments_count': ['sum', 'mean'],  # Total y promedio de comentarios\n",
        "    'interactivity': 'mean',  # Promedio de interactividad\n",
        "    'id': 'count'  # Número de publicaciones\n",
        "\n",
        "}).reset_index()\n",
        "\n",
        "# Renombramos las columnas para claridad\n",
        "media_type_analysis.columns = ['media_type', 'total_likes', 'avg_likes',\n",
        "                               'total_comments', 'avg_comments', 'avg_interactivity', 'count']\n",
        "\n",
        "print(\"\\nAnálisis detallado por tipo de publicación:\")\n",
        "print(media_type_analysis)"
      ],
      "metadata": {
        "colab": {
          "base_uri": "https://localhost:8080/"
        },
        "id": "wjuHodibpKtu",
        "outputId": "07d203ad-1d46-4aa0-ca96-dd81f8cb4d9f",
        "collapsed": true
      },
      "execution_count": null,
      "outputs": [
        {
          "output_type": "stream",
          "name": "stdout",
          "text": [
            "\n",
            "Total de likes en todas las publicaciones: 2175\n",
            "Total de comentarios en todas las publicaciones: 73\n",
            "Promedio de likes por publicación: 30.21\n",
            "Promedio de comentarios por publicación: 1.01\n",
            "\n",
            "Publicación con mayor interactividad:\n",
            "ID: 18071542846726129\n",
            "Tipo de medio: VIDEO\n",
            "URL: https://scontent-iad3-1.cdninstagram.com/o1/v/t2/f2/m86/AQOTEtcPrCgdLL3CYtgF4rGM_7YqZgB4F-42e0YZaGKSTUIIKOcQjupqmGdMGZ5I2-3C0Y2IkZPVm5pp8zY6CZRTZX5MOueO_cX4qu8.mp4?_nc_cat=110&_nc_sid=5e9851&_nc_ht=scontent-iad3-1.cdninstagram.com&_nc_ohc=1I4vyNyqzekQ7kNvgE9tGXd&efg=eyJ2ZW5jb2RlX3RhZyI6Inhwdl9wcm9ncmVzc2l2ZS5JTlNUQUdSQU0uQ0xJUFMuQzMuNzIwLmRhc2hfYmFzZWxpbmVfMV92MSIsInhwdl9hc3NldF9pZCI6MTI2NzAzMzc2NDQ4OTQzMiwidmlfdXNlY2FzZV9pZCI6MTAwOTksImR1cmF0aW9uX3MiOjc1LCJ1cmxnZW5fc291cmNlIjoid3d3In0%3D&ccb=17-1&vs=ee7987a3ceea9a1a&_nc_vs=HBksFQIYUmlnX3hwdl9yZWVsc19wZXJtYW5lbnRfc3JfcHJvZC9DNDQ1NDQ1MDNENTFDOTg1NzZFN0EzNjk2QzM3OTBBOF92aWRlb19kYXNoaW5pdC5tcDQVAALIAQAVAhg6cGFzc3Rocm91Z2hfZXZlcnN0b3JlL0dIZDU3QnRtbFVTOEFsY0hBRlhhYVNFOTdlNFNicV9FQUFBRhUCAsgBACgAGAAbAogHdXNlX29pbAExEnByb2dyZXNzaXZlX3JlY2lwZQExFQAAJrCjm5eJl8AEFQIoAkMzLBdAUsAAAAAAABgSZGFzaF9iYXNlbGluZV8xX3YxEQB1_gcA&_nc_zt=28&oh=00_AYGJJX55fQCVT9r7UcvdQxHP2Z8iT0vefOz7bytRkVxfmQ&oe=67E5F24B\n",
            "Fecha: 2024-11-29 11:05:29+00:00\n",
            "Likes: 115\n",
            "Comentarios: 0\n",
            "Interactividad total: 115\n",
            "\n",
            "Publicación con mínima interactividad:\n",
            "ID: 18053773723997186\n",
            "Tipo de medio: VIDEO\n",
            "URL: https://scontent-iad3-2.cdninstagram.com/o1/v/t2/f2/m86/AQPCFasquJPGFVTQd_asXCP2R06-z3T5uaW6_g5J7XBXbdJEjFg1oe5zYIDIGoIaLv-XrvqGNCzpvlfnNG2XZ9BV6ACEfmcnzS-bF_w.mp4?_nc_cat=105&_nc_sid=5e9851&_nc_ht=scontent-iad3-2.cdninstagram.com&_nc_ohc=uzvAxTmPwasQ7kNvgH-2tjv&efg=eyJ2ZW5jb2RlX3RhZyI6Inhwdl9wcm9ncmVzc2l2ZS5JTlNUQUdSQU0uQ0xJUFMuQzMuNzIwLmRhc2hfYmFzZWxpbmVfMV92MSIsInhwdl9hc3NldF9pZCI6OTQ3MDgzNTk3Mzc2NTM1LCJ2aV91c2VjYXNlX2lkIjoxMDA5OSwiZHVyYXRpb25fcyI6OCwidXJsZ2VuX3NvdXJjZSI6Ind3dyJ9&ccb=17-1&vs=be5d9088ca96b581&_nc_vs=HBksFQIYUmlnX3hwdl9yZWVsc19wZXJtYW5lbnRfc3JfcHJvZC83MjRBMTBEQUY2MkZEMkJBMzg4RDZFMTQ0MTRGRUU5Nl92aWRlb19kYXNoaW5pdC5tcDQVAALIAQAVAhg6cGFzc3Rocm91Z2hfZXZlcnN0b3JlL0dLS0VHeHl2RGVwcXEzb0VBREhSR2t2SWN4Z2picV9FQUFBRhUCAsgBACgAGAAbAogHdXNlX29pbAExEnByb2dyZXNzaXZlX3JlY2lwZQExFQAAJq6wp9bC164DFQIoAkMzLBdAIDMzMzMzMxgSZGFzaF9iYXNlbGluZV8xX3YxEQB1_gcA&_nc_zt=28&oh=00_AYEnkXm1b2zFwJJo3IyUy_dhElrx6kn86seMsPK2sFIdOQ&oe=67E5F3D6\n",
            "Fecha: 2024-12-28 22:34:27+00:00\n",
            "Likes: 1\n",
            "Comentarios: 0\n",
            "Interactividad total: 1\n",
            "\n",
            "Conteo de publicaciones por tipo:\n",
            "Videos: 29\n",
            "Imágenes: 28\n",
            "Carruseles: 15\n",
            "\n",
            "Análisis detallado por tipo de publicación:\n",
            "       media_type  total_likes  avg_likes  total_comments  avg_comments  \\\n",
            "0  CAROUSEL_ALBUM          466  31.066667              16      1.066667   \n",
            "1           IMAGE          787  28.107143              42      1.500000   \n",
            "2           VIDEO          922  31.793103              15      0.517241   \n",
            "\n",
            "   avg_interactivity  count  \n",
            "0          32.133333     15  \n",
            "1          29.607143     28  \n",
            "2          32.310345     29  \n"
          ]
        }
      ]
    },
    {
      "cell_type": "markdown",
      "source": [
        "# **CONEXIÓN GOOGLE SHEETS**"
      ],
      "metadata": {
        "id": "P8yC9Lcovjpm"
      }
    },
    {
      "cell_type": "code",
      "source": [
        "# Instalamos las librerías necesarias para Google Sheets\n",
        "!pip install gspread\n",
        "!pip install google-auth\n",
        "\n",
        "# Importamos las librerías necesarias para Google Sheets\n",
        "import gspread\n",
        "from google.colab import auth\n",
        "from google.auth import default\n",
        "\n",
        "# Autenticamos al usuario\n",
        "auth.authenticate_user()\n",
        "\n",
        "# Obtenemos las credenciales\n",
        "creds, _ = default()\n",
        "\n",
        "# Conectamos con gspread usando las credenciales\n",
        "gc = gspread.authorize(creds)\n",
        "\n",
        "# Abrimos la hoja de cálculo por su URL\n",
        "spreadsheet_url = \"https://docs.google.com/spreadsheets/d/1rI9x6x00aAR4E6EGaq48it660tk1YDxHmwOWb-zU8N4/edit?gid=0#gid=0\"\n",
        "spreadsheet = gc.open_by_url(spreadsheet_url)\n",
        "\n",
        "# Seleccionamos la hoja específica (por ejemplo, la primera hoja, \"Sheet1\")\n",
        "worksheet = spreadsheet.worksheet(\"DATOS EXTRAIDOS API\")  # Seleccionamos la hoja por su nombre"
      ],
      "metadata": {
        "colab": {
          "base_uri": "https://localhost:8080/"
        },
        "id": "9tBlxNxAvmWv",
        "outputId": "0a431618-abb7-4254-95c6-71bd31537d61"
      },
      "execution_count": null,
      "outputs": [
        {
          "output_type": "stream",
          "name": "stdout",
          "text": [
            "Requirement already satisfied: gspread in /usr/local/lib/python3.11/dist-packages (6.2.0)\n",
            "Requirement already satisfied: google-auth>=1.12.0 in /usr/local/lib/python3.11/dist-packages (from gspread) (2.38.0)\n",
            "Requirement already satisfied: google-auth-oauthlib>=0.4.1 in /usr/local/lib/python3.11/dist-packages (from gspread) (1.2.1)\n",
            "Requirement already satisfied: cachetools<6.0,>=2.0.0 in /usr/local/lib/python3.11/dist-packages (from google-auth>=1.12.0->gspread) (5.5.2)\n",
            "Requirement already satisfied: pyasn1-modules>=0.2.1 in /usr/local/lib/python3.11/dist-packages (from google-auth>=1.12.0->gspread) (0.4.1)\n",
            "Requirement already satisfied: rsa<5,>=3.1.4 in /usr/local/lib/python3.11/dist-packages (from google-auth>=1.12.0->gspread) (4.9)\n",
            "Requirement already satisfied: requests-oauthlib>=0.7.0 in /usr/local/lib/python3.11/dist-packages (from google-auth-oauthlib>=0.4.1->gspread) (2.0.0)\n",
            "Requirement already satisfied: pyasn1<0.7.0,>=0.4.6 in /usr/local/lib/python3.11/dist-packages (from pyasn1-modules>=0.2.1->google-auth>=1.12.0->gspread) (0.6.1)\n",
            "Requirement already satisfied: oauthlib>=3.0.0 in /usr/local/lib/python3.11/dist-packages (from requests-oauthlib>=0.7.0->google-auth-oauthlib>=0.4.1->gspread) (3.2.2)\n",
            "Requirement already satisfied: requests>=2.0.0 in /usr/local/lib/python3.11/dist-packages (from requests-oauthlib>=0.7.0->google-auth-oauthlib>=0.4.1->gspread) (2.32.3)\n",
            "Requirement already satisfied: charset-normalizer<4,>=2 in /usr/local/lib/python3.11/dist-packages (from requests>=2.0.0->requests-oauthlib>=0.7.0->google-auth-oauthlib>=0.4.1->gspread) (3.4.1)\n",
            "Requirement already satisfied: idna<4,>=2.5 in /usr/local/lib/python3.11/dist-packages (from requests>=2.0.0->requests-oauthlib>=0.7.0->google-auth-oauthlib>=0.4.1->gspread) (3.10)\n",
            "Requirement already satisfied: urllib3<3,>=1.21.1 in /usr/local/lib/python3.11/dist-packages (from requests>=2.0.0->requests-oauthlib>=0.7.0->google-auth-oauthlib>=0.4.1->gspread) (2.3.0)\n",
            "Requirement already satisfied: certifi>=2017.4.17 in /usr/local/lib/python3.11/dist-packages (from requests>=2.0.0->requests-oauthlib>=0.7.0->google-auth-oauthlib>=0.4.1->gspread) (2025.1.31)\n",
            "Requirement already satisfied: google-auth in /usr/local/lib/python3.11/dist-packages (2.38.0)\n",
            "Requirement already satisfied: cachetools<6.0,>=2.0.0 in /usr/local/lib/python3.11/dist-packages (from google-auth) (5.5.2)\n",
            "Requirement already satisfied: pyasn1-modules>=0.2.1 in /usr/local/lib/python3.11/dist-packages (from google-auth) (0.4.1)\n",
            "Requirement already satisfied: rsa<5,>=3.1.4 in /usr/local/lib/python3.11/dist-packages (from google-auth) (4.9)\n",
            "Requirement already satisfied: pyasn1<0.7.0,>=0.4.6 in /usr/local/lib/python3.11/dist-packages (from pyasn1-modules>=0.2.1->google-auth) (0.6.1)\n"
          ]
        }
      ]
    },
    {
      "cell_type": "code",
      "source": [
        "# Aseguramos que df_media existe\n",
        "if 'df_media' in globals():\n",
        "    # Convertimos timestamp a string para que sea compatible con Google Sheets\n",
        "    df_media[\"timestamp\"] = df_media[\"timestamp\"].astype(str)\n",
        "\n",
        "    # Si la columna 'children' existe, la convertimos a string (puede ser una lista)\n",
        "    if \"children\" in df_media.columns:\n",
        "        df_media[\"children\"] = df_media[\"children\"].astype(str)\n",
        "\n",
        "    # Convertimos el DataFrame a una lista de listas para escribir en Google Sheets\n",
        "    data_to_write = [df_media.columns.tolist()]  # Encabezados\n",
        "    data_to_write.extend(df_media.values.tolist())  # Filas de datos\n",
        "\n",
        "    # Limpiamos la hoja existente (esto para cargar datos actualizados)\n",
        "    worksheet.clear()\n",
        "\n",
        "    # Escribimos los datos en la hoja\n",
        "    worksheet.update(\"A1\", data_to_write)\n",
        "\n",
        "    print(\"Publicaciones guardadas en Google Sheets\")\n",
        "else:\n",
        "    print(\"Error: No se encontró el DataFrame 'df_media'. Asegúrate de que las celdas anteriores se hayan ejecutado correctamente.\")"
      ],
      "metadata": {
        "colab": {
          "base_uri": "https://localhost:8080/"
        },
        "id": "suKO_ryBwTmR",
        "outputId": "1d0eb048-7c5d-4145-ead0-793cb13b1b22"
      },
      "execution_count": null,
      "outputs": [
        {
          "output_type": "stream",
          "name": "stderr",
          "text": [
            "<ipython-input-17-19f957a38c03>:18: DeprecationWarning: The order of arguments in worksheet.update() has changed. Please pass values first and range_name secondor used named arguments (range_name=, values=)\n",
            "  worksheet.update(\"A1\", data_to_write)\n"
          ]
        },
        {
          "output_type": "stream",
          "name": "stdout",
          "text": [
            "Publicaciones guardadas en Google Sheets\n"
          ]
        }
      ]
    }
  ]
}